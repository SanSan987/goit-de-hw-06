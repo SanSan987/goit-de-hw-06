{
  "nbformat": 4,
  "nbformat_minor": 0,
  "metadata": {
    "colab": {
      "provenance": [],
      "authorship_tag": "ABX9TyOl6CvdqUO7k++pMDQciZH6",
      "include_colab_link": true
    },
    "kernelspec": {
      "name": "python3",
      "display_name": "Python 3"
    },
    "language_info": {
      "name": "python"
    }
  },
  "cells": [
    {
      "cell_type": "markdown",
      "metadata": {
        "id": "view-in-github",
        "colab_type": "text"
      },
      "source": [
        "<a href=\"https://colab.research.google.com/github/SanSan987/goit-de-hw-06/blob/main/dz6_den_chubar_oo.ipynb\" target=\"_parent\"><img src=\"https://colab.research.google.com/assets/colab-badge.svg\" alt=\"Open In Colab\"/></a>"
      ]
    },
    {
      "cell_type": "code",
      "execution_count": null,
      "metadata": {
        "colab": {
          "base_uri": "https://localhost:8080/"
        },
        "id": "DJeiLtqgQyd-",
        "outputId": "8a31766d-8c11-42b8-8222-cf2efefb05c1"
      },
      "outputs": [
        {
          "output_type": "stream",
          "name": "stdout",
          "text": [
            "\u001b[2K     \u001b[90m━━━━━━━━━━━━━━━━━━━━━━━━━━━━━━━━━━━━━━━━\u001b[0m \u001b[32m316.9/316.9 MB\u001b[0m \u001b[31m4.9 MB/s\u001b[0m eta \u001b[36m0:00:00\u001b[0m\n",
            "\u001b[?25h  Preparing metadata (setup.py) ... \u001b[?25l\u001b[?25hdone\n",
            "\u001b[33mWARNING: Retrying (Retry(total=4, connect=None, read=None, redirect=None, status=None)) after connection broken by 'ProtocolError('Connection aborted.', RemoteDisconnected('Remote end closed connection without response'))': /simple/kafka-python/\u001b[0m\u001b[33m\n",
            "\u001b[2K   \u001b[90m━━━━━━━━━━━━━━━━━━━━━━━━━━━━━━━━━━━━━━━━\u001b[0m \u001b[32m274.5/274.5 kB\u001b[0m \u001b[31m15.1 MB/s\u001b[0m eta \u001b[36m0:00:00\u001b[0m\n",
            "\u001b[?25h  Building wheel for pyspark (setup.py) ... \u001b[?25l\u001b[?25hdone\n"
          ]
        }
      ],
      "source": [
        "# Встановлюємо необхідні пакети\n",
        "!apt-get install openjdk-11-jdk-headless -qq > /dev/null\n",
        "!wget -q https://archive.apache.org/dist/spark/spark-3.5.0/spark-3.5.0-bin-hadoop3.tgz\n",
        "!tar xf spark-3.5.0-bin-hadoop3.tgz\n",
        "!pip install -q findspark pyspark==3.5.0 kafka-python\n",
        "\n",
        "# Конфігурація середовища\n",
        "import os\n",
        "os.environ[\"JAVA_HOME\"] = \"/usr/lib/jvm/java-11-openjdk-amd64\"\n",
        "os.environ[\"SPARK_HOME\"] = \"/content/spark-3.5.0-bin-hadoop3\"\n",
        "\n",
        "import findspark\n",
        "findspark.init()\n"
      ]
    },
    {
      "cell_type": "code",
      "source": [
        "# Завантаження Kafka\n",
        "!wget https://archive.apache.org/dist/kafka/3.6.0/kafka_2.13-3.6.0.tgz\n",
        "!tar -xzf kafka_2.13-3.6.0.tgz\n",
        "\n",
        "# Запуск Zookeeper і Kafka\n",
        "os.system(\"nohup kafka_2.13-3.6.0/bin/zookeeper-server-start.sh kafka_2.13-3.6.0/config/zookeeper.properties &\")\n",
        "os.system(\"nohup kafka_2.13-3.6.0/bin/kafka-server-start.sh kafka_2.13-3.6.0/config/server.properties &\")\n"
      ],
      "metadata": {
        "id": "RH7t4z6DRBjH",
        "colab": {
          "base_uri": "https://localhost:8080/"
        },
        "outputId": "0cf6bbb2-6035-423a-a9f9-326ba7dca8d2"
      },
      "execution_count": null,
      "outputs": [
        {
          "output_type": "stream",
          "name": "stdout",
          "text": [
            "--2025-03-21 22:32:24--  https://archive.apache.org/dist/kafka/3.6.0/kafka_2.13-3.6.0.tgz\n",
            "Resolving archive.apache.org (archive.apache.org)... 65.108.204.189, 2a01:4f9:1a:a084::2\n",
            "Connecting to archive.apache.org (archive.apache.org)|65.108.204.189|:443... connected.\n",
            "HTTP request sent, awaiting response... 200 OK\n",
            "Length: 113257079 (108M) [application/x-gzip]\n",
            "Saving to: ‘kafka_2.13-3.6.0.tgz’\n",
            "\n",
            "kafka_2.13-3.6.0.tg 100%[===================>] 108.01M  27.3MB/s    in 4.7s    \n",
            "\n",
            "2025-03-21 22:32:29 (22.9 MB/s) - ‘kafka_2.13-3.6.0.tgz’ saved [113257079/113257079]\n",
            "\n"
          ]
        },
        {
          "output_type": "execute_result",
          "data": {
            "text/plain": [
              "0"
            ]
          },
          "metadata": {},
          "execution_count": 2
        }
      ]
    },
    {
      "cell_type": "code",
      "source": [
        "# Встановлення бібліотеки Kafka Python\n",
        "!pip install kafka-python\n"
      ],
      "metadata": {
        "id": "ncbI0aNZTm0A",
        "colab": {
          "base_uri": "https://localhost:8080/"
        },
        "outputId": "7cc07cbe-1f2f-46d2-c16a-f39019b18452"
      },
      "execution_count": null,
      "outputs": [
        {
          "output_type": "stream",
          "name": "stdout",
          "text": [
            "Requirement already satisfied: kafka-python in /usr/local/lib/python3.11/dist-packages (2.1.2)\n"
          ]
        }
      ]
    },
    {
      "cell_type": "code",
      "source": [
        "# Створення топіків\n",
        "!kafka_2.13-3.6.0/bin/kafka-topics.sh --create --topic chub_building_sensors --bootstrap-server localhost:9092\n",
        "!kafka_2.13-3.6.0/bin/kafka-topics.sh --create --topic chub_alerts --bootstrap-server localhost:9092\n"
      ],
      "metadata": {
        "id": "g6d_yzsT2nT1",
        "colab": {
          "base_uri": "https://localhost:8080/"
        },
        "outputId": "109d8423-81e1-4056-fd5c-95debd5bc337"
      },
      "execution_count": null,
      "outputs": [
        {
          "output_type": "stream",
          "name": "stdout",
          "text": [
            "WARNING: Due to limitations in metric names, topics with a period ('.') or underscore ('_') could collide. To avoid issues it is best to use either, but not both.\n",
            "Created topic chub_building_sensors.\n",
            "WARNING: Due to limitations in metric names, topics with a period ('.') or underscore ('_') could collide. To avoid issues it is best to use either, but not both.\n",
            "Created topic chub_alerts.\n"
          ]
        }
      ]
    },
    {
      "cell_type": "code",
      "source": [
        "# Перевірка створених топіків\n",
        "from kafka.admin import KafkaAdminClient\n",
        "admin_client = KafkaAdminClient(bootstrap_servers=['localhost:9092'])\n",
        "print([topic for topic in admin_client.list_topics() if \"chub\" in topic])\n"
      ],
      "metadata": {
        "id": "5W9K6vI823RB",
        "colab": {
          "base_uri": "https://localhost:8080/"
        },
        "outputId": "555baefd-ebf5-43a3-e961-813e47fbec8e"
      },
      "execution_count": null,
      "outputs": [
        {
          "output_type": "stream",
          "name": "stdout",
          "text": [
            "['chub_building_sensors', 'chub_alerts']\n"
          ]
        }
      ]
    },
    {
      "cell_type": "code",
      "source": [
        "# Завантаження параметрів алертів з CSV\n",
        "import pandas as pd\n",
        "# Створюємо CSV-файл з параметрами\n",
        "params_csv = \"\"\"id,humidity_min,humidity_max,temperature_min,temperature_max,code,message\n",
        "1,0,40,-999,-999,101,\"It's too dry\"\n",
        "2,60,100,-999,-999,102,\"It's too wet\"\n",
        "3,-999,-999,-300,30,103,\"It's too cold\"\n",
        "4,-999,-999,40,300,104,\"It's too hot\"\n",
        "\"\"\"\n",
        "\n",
        "# Збереження параметрів у CSV-файл\n",
        "with open(\"alert_params.csv\", \"w\") as file:\n",
        "    file.write(params_csv)\n",
        "\n",
        "# Завантаження параметрів\n",
        "alerts_df = pd.read_csv(\"alert_params.csv\")\n",
        "alerts_df.head()\n"
      ],
      "metadata": {
        "id": "cftPL1sU4tpf",
        "colab": {
          "base_uri": "https://localhost:8080/",
          "height": 175
        },
        "outputId": "bbe51793-4cf9-43ba-c7ad-86fac417e03f"
      },
      "execution_count": null,
      "outputs": [
        {
          "output_type": "execute_result",
          "data": {
            "text/plain": [
              "   id  humidity_min  humidity_max  temperature_min  temperature_max  code  \\\n",
              "0   1             0            40             -999             -999   101   \n",
              "1   2            60           100             -999             -999   102   \n",
              "2   3          -999          -999             -300               30   103   \n",
              "3   4          -999          -999               40              300   104   \n",
              "\n",
              "         message  \n",
              "0   It's too dry  \n",
              "1   It's too wet  \n",
              "2  It's too cold  \n",
              "3   It's too hot  "
            ],
            "text/html": [
              "\n",
              "  <div id=\"df-3787f86d-f9cd-42a2-8ba4-6da32fd3c853\" class=\"colab-df-container\">\n",
              "    <div>\n",
              "<style scoped>\n",
              "    .dataframe tbody tr th:only-of-type {\n",
              "        vertical-align: middle;\n",
              "    }\n",
              "\n",
              "    .dataframe tbody tr th {\n",
              "        vertical-align: top;\n",
              "    }\n",
              "\n",
              "    .dataframe thead th {\n",
              "        text-align: right;\n",
              "    }\n",
              "</style>\n",
              "<table border=\"1\" class=\"dataframe\">\n",
              "  <thead>\n",
              "    <tr style=\"text-align: right;\">\n",
              "      <th></th>\n",
              "      <th>id</th>\n",
              "      <th>humidity_min</th>\n",
              "      <th>humidity_max</th>\n",
              "      <th>temperature_min</th>\n",
              "      <th>temperature_max</th>\n",
              "      <th>code</th>\n",
              "      <th>message</th>\n",
              "    </tr>\n",
              "  </thead>\n",
              "  <tbody>\n",
              "    <tr>\n",
              "      <th>0</th>\n",
              "      <td>1</td>\n",
              "      <td>0</td>\n",
              "      <td>40</td>\n",
              "      <td>-999</td>\n",
              "      <td>-999</td>\n",
              "      <td>101</td>\n",
              "      <td>It's too dry</td>\n",
              "    </tr>\n",
              "    <tr>\n",
              "      <th>1</th>\n",
              "      <td>2</td>\n",
              "      <td>60</td>\n",
              "      <td>100</td>\n",
              "      <td>-999</td>\n",
              "      <td>-999</td>\n",
              "      <td>102</td>\n",
              "      <td>It's too wet</td>\n",
              "    </tr>\n",
              "    <tr>\n",
              "      <th>2</th>\n",
              "      <td>3</td>\n",
              "      <td>-999</td>\n",
              "      <td>-999</td>\n",
              "      <td>-300</td>\n",
              "      <td>30</td>\n",
              "      <td>103</td>\n",
              "      <td>It's too cold</td>\n",
              "    </tr>\n",
              "    <tr>\n",
              "      <th>3</th>\n",
              "      <td>4</td>\n",
              "      <td>-999</td>\n",
              "      <td>-999</td>\n",
              "      <td>40</td>\n",
              "      <td>300</td>\n",
              "      <td>104</td>\n",
              "      <td>It's too hot</td>\n",
              "    </tr>\n",
              "  </tbody>\n",
              "</table>\n",
              "</div>\n",
              "    <div class=\"colab-df-buttons\">\n",
              "\n",
              "  <div class=\"colab-df-container\">\n",
              "    <button class=\"colab-df-convert\" onclick=\"convertToInteractive('df-3787f86d-f9cd-42a2-8ba4-6da32fd3c853')\"\n",
              "            title=\"Convert this dataframe to an interactive table.\"\n",
              "            style=\"display:none;\">\n",
              "\n",
              "  <svg xmlns=\"http://www.w3.org/2000/svg\" height=\"24px\" viewBox=\"0 -960 960 960\">\n",
              "    <path d=\"M120-120v-720h720v720H120Zm60-500h600v-160H180v160Zm220 220h160v-160H400v160Zm0 220h160v-160H400v160ZM180-400h160v-160H180v160Zm440 0h160v-160H620v160ZM180-180h160v-160H180v160Zm440 0h160v-160H620v160Z\"/>\n",
              "  </svg>\n",
              "    </button>\n",
              "\n",
              "  <style>\n",
              "    .colab-df-container {\n",
              "      display:flex;\n",
              "      gap: 12px;\n",
              "    }\n",
              "\n",
              "    .colab-df-convert {\n",
              "      background-color: #E8F0FE;\n",
              "      border: none;\n",
              "      border-radius: 50%;\n",
              "      cursor: pointer;\n",
              "      display: none;\n",
              "      fill: #1967D2;\n",
              "      height: 32px;\n",
              "      padding: 0 0 0 0;\n",
              "      width: 32px;\n",
              "    }\n",
              "\n",
              "    .colab-df-convert:hover {\n",
              "      background-color: #E2EBFA;\n",
              "      box-shadow: 0px 1px 2px rgba(60, 64, 67, 0.3), 0px 1px 3px 1px rgba(60, 64, 67, 0.15);\n",
              "      fill: #174EA6;\n",
              "    }\n",
              "\n",
              "    .colab-df-buttons div {\n",
              "      margin-bottom: 4px;\n",
              "    }\n",
              "\n",
              "    [theme=dark] .colab-df-convert {\n",
              "      background-color: #3B4455;\n",
              "      fill: #D2E3FC;\n",
              "    }\n",
              "\n",
              "    [theme=dark] .colab-df-convert:hover {\n",
              "      background-color: #434B5C;\n",
              "      box-shadow: 0px 1px 3px 1px rgba(0, 0, 0, 0.15);\n",
              "      filter: drop-shadow(0px 1px 2px rgba(0, 0, 0, 0.3));\n",
              "      fill: #FFFFFF;\n",
              "    }\n",
              "  </style>\n",
              "\n",
              "    <script>\n",
              "      const buttonEl =\n",
              "        document.querySelector('#df-3787f86d-f9cd-42a2-8ba4-6da32fd3c853 button.colab-df-convert');\n",
              "      buttonEl.style.display =\n",
              "        google.colab.kernel.accessAllowed ? 'block' : 'none';\n",
              "\n",
              "      async function convertToInteractive(key) {\n",
              "        const element = document.querySelector('#df-3787f86d-f9cd-42a2-8ba4-6da32fd3c853');\n",
              "        const dataTable =\n",
              "          await google.colab.kernel.invokeFunction('convertToInteractive',\n",
              "                                                    [key], {});\n",
              "        if (!dataTable) return;\n",
              "\n",
              "        const docLinkHtml = 'Like what you see? Visit the ' +\n",
              "          '<a target=\"_blank\" href=https://colab.research.google.com/notebooks/data_table.ipynb>data table notebook</a>'\n",
              "          + ' to learn more about interactive tables.';\n",
              "        element.innerHTML = '';\n",
              "        dataTable['output_type'] = 'display_data';\n",
              "        await google.colab.output.renderOutput(dataTable, element);\n",
              "        const docLink = document.createElement('div');\n",
              "        docLink.innerHTML = docLinkHtml;\n",
              "        element.appendChild(docLink);\n",
              "      }\n",
              "    </script>\n",
              "  </div>\n",
              "\n",
              "\n",
              "<div id=\"df-756b5416-240b-4016-9aa5-5775df76e577\">\n",
              "  <button class=\"colab-df-quickchart\" onclick=\"quickchart('df-756b5416-240b-4016-9aa5-5775df76e577')\"\n",
              "            title=\"Suggest charts\"\n",
              "            style=\"display:none;\">\n",
              "\n",
              "<svg xmlns=\"http://www.w3.org/2000/svg\" height=\"24px\"viewBox=\"0 0 24 24\"\n",
              "     width=\"24px\">\n",
              "    <g>\n",
              "        <path d=\"M19 3H5c-1.1 0-2 .9-2 2v14c0 1.1.9 2 2 2h14c1.1 0 2-.9 2-2V5c0-1.1-.9-2-2-2zM9 17H7v-7h2v7zm4 0h-2V7h2v10zm4 0h-2v-4h2v4z\"/>\n",
              "    </g>\n",
              "</svg>\n",
              "  </button>\n",
              "\n",
              "<style>\n",
              "  .colab-df-quickchart {\n",
              "      --bg-color: #E8F0FE;\n",
              "      --fill-color: #1967D2;\n",
              "      --hover-bg-color: #E2EBFA;\n",
              "      --hover-fill-color: #174EA6;\n",
              "      --disabled-fill-color: #AAA;\n",
              "      --disabled-bg-color: #DDD;\n",
              "  }\n",
              "\n",
              "  [theme=dark] .colab-df-quickchart {\n",
              "      --bg-color: #3B4455;\n",
              "      --fill-color: #D2E3FC;\n",
              "      --hover-bg-color: #434B5C;\n",
              "      --hover-fill-color: #FFFFFF;\n",
              "      --disabled-bg-color: #3B4455;\n",
              "      --disabled-fill-color: #666;\n",
              "  }\n",
              "\n",
              "  .colab-df-quickchart {\n",
              "    background-color: var(--bg-color);\n",
              "    border: none;\n",
              "    border-radius: 50%;\n",
              "    cursor: pointer;\n",
              "    display: none;\n",
              "    fill: var(--fill-color);\n",
              "    height: 32px;\n",
              "    padding: 0;\n",
              "    width: 32px;\n",
              "  }\n",
              "\n",
              "  .colab-df-quickchart:hover {\n",
              "    background-color: var(--hover-bg-color);\n",
              "    box-shadow: 0 1px 2px rgba(60, 64, 67, 0.3), 0 1px 3px 1px rgba(60, 64, 67, 0.15);\n",
              "    fill: var(--button-hover-fill-color);\n",
              "  }\n",
              "\n",
              "  .colab-df-quickchart-complete:disabled,\n",
              "  .colab-df-quickchart-complete:disabled:hover {\n",
              "    background-color: var(--disabled-bg-color);\n",
              "    fill: var(--disabled-fill-color);\n",
              "    box-shadow: none;\n",
              "  }\n",
              "\n",
              "  .colab-df-spinner {\n",
              "    border: 2px solid var(--fill-color);\n",
              "    border-color: transparent;\n",
              "    border-bottom-color: var(--fill-color);\n",
              "    animation:\n",
              "      spin 1s steps(1) infinite;\n",
              "  }\n",
              "\n",
              "  @keyframes spin {\n",
              "    0% {\n",
              "      border-color: transparent;\n",
              "      border-bottom-color: var(--fill-color);\n",
              "      border-left-color: var(--fill-color);\n",
              "    }\n",
              "    20% {\n",
              "      border-color: transparent;\n",
              "      border-left-color: var(--fill-color);\n",
              "      border-top-color: var(--fill-color);\n",
              "    }\n",
              "    30% {\n",
              "      border-color: transparent;\n",
              "      border-left-color: var(--fill-color);\n",
              "      border-top-color: var(--fill-color);\n",
              "      border-right-color: var(--fill-color);\n",
              "    }\n",
              "    40% {\n",
              "      border-color: transparent;\n",
              "      border-right-color: var(--fill-color);\n",
              "      border-top-color: var(--fill-color);\n",
              "    }\n",
              "    60% {\n",
              "      border-color: transparent;\n",
              "      border-right-color: var(--fill-color);\n",
              "    }\n",
              "    80% {\n",
              "      border-color: transparent;\n",
              "      border-right-color: var(--fill-color);\n",
              "      border-bottom-color: var(--fill-color);\n",
              "    }\n",
              "    90% {\n",
              "      border-color: transparent;\n",
              "      border-bottom-color: var(--fill-color);\n",
              "    }\n",
              "  }\n",
              "</style>\n",
              "\n",
              "  <script>\n",
              "    async function quickchart(key) {\n",
              "      const quickchartButtonEl =\n",
              "        document.querySelector('#' + key + ' button');\n",
              "      quickchartButtonEl.disabled = true;  // To prevent multiple clicks.\n",
              "      quickchartButtonEl.classList.add('colab-df-spinner');\n",
              "      try {\n",
              "        const charts = await google.colab.kernel.invokeFunction(\n",
              "            'suggestCharts', [key], {});\n",
              "      } catch (error) {\n",
              "        console.error('Error during call to suggestCharts:', error);\n",
              "      }\n",
              "      quickchartButtonEl.classList.remove('colab-df-spinner');\n",
              "      quickchartButtonEl.classList.add('colab-df-quickchart-complete');\n",
              "    }\n",
              "    (() => {\n",
              "      let quickchartButtonEl =\n",
              "        document.querySelector('#df-756b5416-240b-4016-9aa5-5775df76e577 button');\n",
              "      quickchartButtonEl.style.display =\n",
              "        google.colab.kernel.accessAllowed ? 'block' : 'none';\n",
              "    })();\n",
              "  </script>\n",
              "</div>\n",
              "    </div>\n",
              "  </div>\n"
            ],
            "application/vnd.google.colaboratory.intrinsic+json": {
              "type": "dataframe",
              "variable_name": "alerts_df",
              "summary": "{\n  \"name\": \"alerts_df\",\n  \"rows\": 4,\n  \"fields\": [\n    {\n      \"column\": \"id\",\n      \"properties\": {\n        \"dtype\": \"number\",\n        \"std\": 1,\n        \"min\": 1,\n        \"max\": 4,\n        \"num_unique_values\": 4,\n        \"samples\": [\n          2,\n          4,\n          1\n        ],\n        \"semantic_type\": \"\",\n        \"description\": \"\"\n      }\n    },\n    {\n      \"column\": \"humidity_min\",\n      \"properties\": {\n        \"dtype\": \"number\",\n        \"std\": 594,\n        \"min\": -999,\n        \"max\": 60,\n        \"num_unique_values\": 3,\n        \"samples\": [\n          0,\n          60,\n          -999\n        ],\n        \"semantic_type\": \"\",\n        \"description\": \"\"\n      }\n    },\n    {\n      \"column\": \"humidity_max\",\n      \"properties\": {\n        \"dtype\": \"number\",\n        \"std\": 617,\n        \"min\": -999,\n        \"max\": 100,\n        \"num_unique_values\": 3,\n        \"samples\": [\n          40,\n          100,\n          -999\n        ],\n        \"semantic_type\": \"\",\n        \"description\": \"\"\n      }\n    },\n    {\n      \"column\": \"temperature_min\",\n      \"properties\": {\n        \"dtype\": \"number\",\n        \"std\": 520,\n        \"min\": -999,\n        \"max\": 40,\n        \"num_unique_values\": 3,\n        \"samples\": [\n          -999,\n          -300,\n          40\n        ],\n        \"semantic_type\": \"\",\n        \"description\": \"\"\n      }\n    },\n    {\n      \"column\": \"temperature_max\",\n      \"properties\": {\n        \"dtype\": \"number\",\n        \"std\": 681,\n        \"min\": -999,\n        \"max\": 300,\n        \"num_unique_values\": 3,\n        \"samples\": [\n          -999,\n          30,\n          300\n        ],\n        \"semantic_type\": \"\",\n        \"description\": \"\"\n      }\n    },\n    {\n      \"column\": \"code\",\n      \"properties\": {\n        \"dtype\": \"number\",\n        \"std\": 1,\n        \"min\": 101,\n        \"max\": 104,\n        \"num_unique_values\": 4,\n        \"samples\": [\n          102,\n          104,\n          101\n        ],\n        \"semantic_type\": \"\",\n        \"description\": \"\"\n      }\n    },\n    {\n      \"column\": \"message\",\n      \"properties\": {\n        \"dtype\": \"string\",\n        \"num_unique_values\": 4,\n        \"samples\": [\n          \"It's too wet\",\n          \"It's too hot\",\n          \"It's too dry\"\n        ],\n        \"semantic_type\": \"\",\n        \"description\": \"\"\n      }\n    }\n  ]\n}"
            }
          },
          "metadata": {},
          "execution_count": 6
        }
      ]
    },
    {
      "cell_type": "code",
      "source": [
        "# Spark сесія\n",
        "from pyspark.sql import SparkSession\n",
        "spark = SparkSession.builder \\\n",
        "    .appName(\"IoT_Alerts\") \\\n",
        "    .config(\"spark.jars.packages\", \"org.apache.spark:spark-sql-kafka-0-10_2.12:3.5.0\") \\\n",
        "    .getOrCreate()\n",
        "\n",
        "spark.sparkContext.setLogLevel(\"ERROR\")\n"
      ],
      "metadata": {
        "id": "2WxigXLX90sN"
      },
      "execution_count": null,
      "outputs": []
    },
    {
      "cell_type": "code",
      "source": [
        "# Скрипт для відправки даних до топіків, датчик 1\n",
        "from kafka import KafkaProducer\n",
        "import json, random, time\n",
        "from datetime import datetime\n",
        "\n",
        "producer = KafkaProducer(\n",
        "    bootstrap_servers='localhost:9092',\n",
        "    value_serializer=lambda v: json.dumps(v).encode('utf-8')\n",
        ")\n",
        "\n",
        "sensor_id = random.randint(1000, 9999)\n",
        "\n",
        "for _ in range(30):\n",
        "    data = {\n",
        "        \"sensor_id\": sensor_id,\n",
        "        \"timestamp\": datetime.now().isoformat(),\n",
        "        \"temperature\": random.randint(25, 45),\n",
        "        \"humidity\": random.randint(15, 85)\n",
        "    }\n",
        "    print(f\"Sensor {sensor_id} data sent:\", data)\n",
        "    producer.send(\"chub_building_sensors\", data)\n",
        "    producer.flush()  # негайне відправлення\n",
        "    time.sleep(2)\n",
        "\n"
      ],
      "metadata": {
        "id": "x9Yx_eVITuI5",
        "colab": {
          "base_uri": "https://localhost:8080/"
        },
        "outputId": "57218b1d-e808-496c-e7be-0847ebf110c6"
      },
      "execution_count": null,
      "outputs": [
        {
          "output_type": "stream",
          "name": "stdout",
          "text": [
            "Sensor 2005 data sent: {'sensor_id': 2005, 'timestamp': '2025-03-21T22:43:15.967703', 'temperature': 37, 'humidity': 33}\n",
            "Sensor 2005 data sent: {'sensor_id': 2005, 'timestamp': '2025-03-21T22:43:18.039131', 'temperature': 26, 'humidity': 55}\n",
            "Sensor 2005 data sent: {'sensor_id': 2005, 'timestamp': '2025-03-21T22:43:20.044445', 'temperature': 44, 'humidity': 79}\n",
            "Sensor 2005 data sent: {'sensor_id': 2005, 'timestamp': '2025-03-21T22:43:22.048240', 'temperature': 41, 'humidity': 20}\n",
            "Sensor 2005 data sent: {'sensor_id': 2005, 'timestamp': '2025-03-21T22:43:24.052130', 'temperature': 33, 'humidity': 83}\n",
            "Sensor 2005 data sent: {'sensor_id': 2005, 'timestamp': '2025-03-21T22:43:26.057245', 'temperature': 27, 'humidity': 34}\n",
            "Sensor 2005 data sent: {'sensor_id': 2005, 'timestamp': '2025-03-21T22:43:28.061897', 'temperature': 37, 'humidity': 54}\n",
            "Sensor 2005 data sent: {'sensor_id': 2005, 'timestamp': '2025-03-21T22:43:30.066548', 'temperature': 30, 'humidity': 15}\n",
            "Sensor 2005 data sent: {'sensor_id': 2005, 'timestamp': '2025-03-21T22:43:32.071576', 'temperature': 37, 'humidity': 52}\n",
            "Sensor 2005 data sent: {'sensor_id': 2005, 'timestamp': '2025-03-21T22:43:34.075952', 'temperature': 32, 'humidity': 31}\n",
            "Sensor 2005 data sent: {'sensor_id': 2005, 'timestamp': '2025-03-21T22:43:36.079822', 'temperature': 26, 'humidity': 73}\n",
            "Sensor 2005 data sent: {'sensor_id': 2005, 'timestamp': '2025-03-21T22:43:38.085225', 'temperature': 45, 'humidity': 78}\n",
            "Sensor 2005 data sent: {'sensor_id': 2005, 'timestamp': '2025-03-21T22:43:40.089981', 'temperature': 44, 'humidity': 68}\n",
            "Sensor 2005 data sent: {'sensor_id': 2005, 'timestamp': '2025-03-21T22:43:42.093704', 'temperature': 41, 'humidity': 39}\n",
            "Sensor 2005 data sent: {'sensor_id': 2005, 'timestamp': '2025-03-21T22:43:44.102171', 'temperature': 33, 'humidity': 60}\n",
            "Sensor 2005 data sent: {'sensor_id': 2005, 'timestamp': '2025-03-21T22:43:46.106747', 'temperature': 31, 'humidity': 39}\n",
            "Sensor 2005 data sent: {'sensor_id': 2005, 'timestamp': '2025-03-21T22:43:48.111293', 'temperature': 34, 'humidity': 46}\n",
            "Sensor 2005 data sent: {'sensor_id': 2005, 'timestamp': '2025-03-21T22:43:50.115401', 'temperature': 34, 'humidity': 66}\n",
            "Sensor 2005 data sent: {'sensor_id': 2005, 'timestamp': '2025-03-21T22:43:52.120990', 'temperature': 34, 'humidity': 79}\n",
            "Sensor 2005 data sent: {'sensor_id': 2005, 'timestamp': '2025-03-21T22:43:54.125959', 'temperature': 28, 'humidity': 69}\n",
            "Sensor 2005 data sent: {'sensor_id': 2005, 'timestamp': '2025-03-21T22:43:56.130337', 'temperature': 26, 'humidity': 53}\n",
            "Sensor 2005 data sent: {'sensor_id': 2005, 'timestamp': '2025-03-21T22:43:58.137890', 'temperature': 28, 'humidity': 15}\n",
            "Sensor 2005 data sent: {'sensor_id': 2005, 'timestamp': '2025-03-21T22:44:00.142465', 'temperature': 44, 'humidity': 79}\n",
            "Sensor 2005 data sent: {'sensor_id': 2005, 'timestamp': '2025-03-21T22:44:02.145842', 'temperature': 32, 'humidity': 68}\n",
            "Sensor 2005 data sent: {'sensor_id': 2005, 'timestamp': '2025-03-21T22:44:04.149554', 'temperature': 35, 'humidity': 84}\n",
            "Sensor 2005 data sent: {'sensor_id': 2005, 'timestamp': '2025-03-21T22:44:06.153595', 'temperature': 27, 'humidity': 34}\n",
            "Sensor 2005 data sent: {'sensor_id': 2005, 'timestamp': '2025-03-21T22:44:08.159755', 'temperature': 31, 'humidity': 15}\n",
            "Sensor 2005 data sent: {'sensor_id': 2005, 'timestamp': '2025-03-21T22:44:10.163746', 'temperature': 30, 'humidity': 25}\n",
            "Sensor 2005 data sent: {'sensor_id': 2005, 'timestamp': '2025-03-21T22:44:12.167454', 'temperature': 39, 'humidity': 42}\n",
            "Sensor 2005 data sent: {'sensor_id': 2005, 'timestamp': '2025-03-21T22:44:14.171561', 'temperature': 38, 'humidity': 44}\n"
          ]
        }
      ]
    },
    {
      "cell_type": "code",
      "source": [
        "# Скрипт для відправки даних до топіків, датчик 2\n",
        "from kafka import KafkaProducer\n",
        "import json, random, time\n",
        "from datetime import datetime\n",
        "\n",
        "producer = KafkaProducer(\n",
        "    bootstrap_servers='localhost:9092',\n",
        "    value_serializer=lambda v: json.dumps(v).encode('utf-8')\n",
        ")\n",
        "\n",
        "sensor_id = random.randint(1000, 9999)\n",
        "\n",
        "for _ in range(30):\n",
        "    data = {\n",
        "        \"sensor_id\": sensor_id,\n",
        "        \"timestamp\": datetime.now().isoformat(),\n",
        "        \"temperature\": random.randint(25, 45),\n",
        "        \"humidity\": random.randint(15, 85)\n",
        "    }\n",
        "    print(f\"Sensor {sensor_id} data sent:\", data)\n",
        "    producer.send(\"chub_building_sensors\", data)\n",
        "    producer.flush()  # негайне відправлення\n",
        "    time.sleep(2)\n",
        "\n"
      ],
      "metadata": {
        "id": "KlmzoGzShc3-",
        "colab": {
          "base_uri": "https://localhost:8080/"
        },
        "outputId": "c18b932f-882e-4acc-fc9b-779496e836fd"
      },
      "execution_count": null,
      "outputs": [
        {
          "output_type": "stream",
          "name": "stdout",
          "text": [
            "Sensor 7540 data sent: {'sensor_id': 7540, 'timestamp': '2025-03-21T22:44:16.202226', 'temperature': 25, 'humidity': 37}\n",
            "Sensor 7540 data sent: {'sensor_id': 7540, 'timestamp': '2025-03-21T22:44:18.208760', 'temperature': 29, 'humidity': 44}\n",
            "Sensor 7540 data sent: {'sensor_id': 7540, 'timestamp': '2025-03-21T22:44:20.213982', 'temperature': 43, 'humidity': 38}\n",
            "Sensor 7540 data sent: {'sensor_id': 7540, 'timestamp': '2025-03-21T22:44:22.218593', 'temperature': 29, 'humidity': 34}\n",
            "Sensor 7540 data sent: {'sensor_id': 7540, 'timestamp': '2025-03-21T22:44:24.223001', 'temperature': 39, 'humidity': 69}\n",
            "Sensor 7540 data sent: {'sensor_id': 7540, 'timestamp': '2025-03-21T22:44:26.227627', 'temperature': 36, 'humidity': 42}\n",
            "Sensor 7540 data sent: {'sensor_id': 7540, 'timestamp': '2025-03-21T22:44:28.232574', 'temperature': 44, 'humidity': 67}\n",
            "Sensor 7540 data sent: {'sensor_id': 7540, 'timestamp': '2025-03-21T22:44:30.238239', 'temperature': 39, 'humidity': 48}\n",
            "Sensor 7540 data sent: {'sensor_id': 7540, 'timestamp': '2025-03-21T22:44:32.242761', 'temperature': 25, 'humidity': 81}\n",
            "Sensor 7540 data sent: {'sensor_id': 7540, 'timestamp': '2025-03-21T22:44:34.248574', 'temperature': 34, 'humidity': 66}\n",
            "Sensor 7540 data sent: {'sensor_id': 7540, 'timestamp': '2025-03-21T22:44:36.254622', 'temperature': 36, 'humidity': 64}\n",
            "Sensor 7540 data sent: {'sensor_id': 7540, 'timestamp': '2025-03-21T22:44:38.259289', 'temperature': 38, 'humidity': 56}\n",
            "Sensor 7540 data sent: {'sensor_id': 7540, 'timestamp': '2025-03-21T22:44:40.263175', 'temperature': 41, 'humidity': 39}\n",
            "Sensor 7540 data sent: {'sensor_id': 7540, 'timestamp': '2025-03-21T22:44:42.269537', 'temperature': 44, 'humidity': 76}\n",
            "Sensor 7540 data sent: {'sensor_id': 7540, 'timestamp': '2025-03-21T22:44:44.273481', 'temperature': 25, 'humidity': 39}\n",
            "Sensor 7540 data sent: {'sensor_id': 7540, 'timestamp': '2025-03-21T22:44:46.278530', 'temperature': 44, 'humidity': 68}\n",
            "Sensor 7540 data sent: {'sensor_id': 7540, 'timestamp': '2025-03-21T22:44:48.282978', 'temperature': 36, 'humidity': 65}\n",
            "Sensor 7540 data sent: {'sensor_id': 7540, 'timestamp': '2025-03-21T22:44:50.286936', 'temperature': 43, 'humidity': 20}\n",
            "Sensor 7540 data sent: {'sensor_id': 7540, 'timestamp': '2025-03-21T22:44:52.291458', 'temperature': 31, 'humidity': 69}\n",
            "Sensor 7540 data sent: {'sensor_id': 7540, 'timestamp': '2025-03-21T22:44:54.297736', 'temperature': 42, 'humidity': 61}\n",
            "Sensor 7540 data sent: {'sensor_id': 7540, 'timestamp': '2025-03-21T22:44:56.301532', 'temperature': 38, 'humidity': 47}\n",
            "Sensor 7540 data sent: {'sensor_id': 7540, 'timestamp': '2025-03-21T22:44:58.305626', 'temperature': 27, 'humidity': 21}\n",
            "Sensor 7540 data sent: {'sensor_id': 7540, 'timestamp': '2025-03-21T22:45:00.310754', 'temperature': 33, 'humidity': 26}\n",
            "Sensor 7540 data sent: {'sensor_id': 7540, 'timestamp': '2025-03-21T22:45:02.314867', 'temperature': 28, 'humidity': 36}\n",
            "Sensor 7540 data sent: {'sensor_id': 7540, 'timestamp': '2025-03-21T22:45:04.318152', 'temperature': 42, 'humidity': 23}\n",
            "Sensor 7540 data sent: {'sensor_id': 7540, 'timestamp': '2025-03-21T22:45:06.325291', 'temperature': 27, 'humidity': 19}\n",
            "Sensor 7540 data sent: {'sensor_id': 7540, 'timestamp': '2025-03-21T22:45:08.329294', 'temperature': 32, 'humidity': 69}\n",
            "Sensor 7540 data sent: {'sensor_id': 7540, 'timestamp': '2025-03-21T22:45:10.333580', 'temperature': 34, 'humidity': 63}\n",
            "Sensor 7540 data sent: {'sensor_id': 7540, 'timestamp': '2025-03-21T22:45:12.337902', 'temperature': 40, 'humidity': 70}\n",
            "Sensor 7540 data sent: {'sensor_id': 7540, 'timestamp': '2025-03-21T22:45:14.341374', 'temperature': 29, 'humidity': 65}\n"
          ]
        }
      ]
    },
    {
      "cell_type": "code",
      "source": [
        "# Spark Structured Streaming (Sliding Window + Watermark)\n",
        "from pyspark.sql.functions import from_json, col, window, avg, current_timestamp, to_json, struct\n",
        "from pyspark.sql.types import StructType, StructField, IntegerType, StringType, TimestampType\n",
        "\n",
        "schema = StructType([\n",
        "    StructField(\"sensor_id\", IntegerType()),\n",
        "    StructField(\"timestamp\", TimestampType()),\n",
        "    StructField(\"temperature\", IntegerType()),\n",
        "    StructField(\"humidity\", IntegerType())\n",
        "])\n",
        "\n",
        "sensor_df = spark.readStream.format(\"kafka\") \\\n",
        "    .option(\"kafka.bootstrap.servers\", \"localhost:9092\") \\\n",
        "    .option(\"subscribe\", \"chub_building_sensors\") \\\n",
        "    .option(\"startingOffsets\", \"latest\") \\\n",
        "    .load()\n",
        "\n",
        "sensor_values = sensor_df.selectExpr(\"CAST(value AS STRING)\") \\\n",
        "    .select(from_json(col(\"value\"), schema).alias(\"data\")) \\\n",
        "    .select(\"data.*\")\n",
        "\n",
        "agg_df = sensor_values \\\n",
        "    .withWatermark(\"timestamp\", \"10 seconds\") \\\n",
        "    .groupBy(window(col(\"timestamp\"), \"1 minute\", \"30 seconds\")) \\\n",
        "    .agg(avg(\"temperature\").alias(\"t_avg\"), avg(\"humidity\").alias(\"h_avg\"))\n",
        "\n",
        "# query з логуванням\n",
        "query = agg_df.writeStream.outputMode(\"update\") \\\n",
        "    .format(\"console\") \\\n",
        "    .option(\"truncate\", \"false\") \\\n",
        "    .start()\n",
        "\n",
        "query.awaitTermination(180)\n",
        "query.stop()\n"
      ],
      "metadata": {
        "id": "IjcsdLePxP5Q"
      },
      "execution_count": null,
      "outputs": []
    },
    {
      "cell_type": "code",
      "source": [
        "# Перевірка алертів та запис у Kafka\n",
        "from pyspark.sql.functions import current_timestamp, struct, to_json\n",
        "\n",
        "alerts_spark_df = spark.createDataFrame(alerts_df)\n",
        "\n",
        "alerts_final_df = agg_df.crossJoin(alerts_spark_df).where(\n",
        "    ((col(\"humidity_min\") != -999) & (col(\"h_avg\") < col(\"humidity_min\"))) |\n",
        "    ((col(\"humidity_max\") != -999) & (col(\"h_avg\") > col(\"humidity_max\"))) |\n",
        "    ((col(\"temperature_min\") != -999) & (col(\"t_avg\") < col(\"temperature_min\"))) |\n",
        "    ((col(\"temperature_max\") != -999) & (col(\"t_avg\") > col(\"temperature_max\")))\n",
        ").select(\n",
        "    \"window\", \"t_avg\", \"h_avg\", \"code\", \"message\", current_timestamp().alias(\"timestamp\")\n",
        ")\n",
        "\n",
        "# Stream до Kafka\n",
        "query_kafka = alerts_final_df.select(to_json(struct(\"*\")).alias(\"value\")).writeStream \\\n",
        "    .format(\"kafka\") \\\n",
        "    .option(\"kafka.bootstrap.servers\", \"localhost:9092\") \\\n",
        "    .option(\"topic\", \"chub_alerts\") \\\n",
        "    .option(\"checkpointLocation\", \"/tmp/checkpoint\") \\\n",
        "    .start()\n",
        "\n",
        "# Stream до консолі\n",
        "query_console = alerts_final_df.writeStream.outputMode(\"update\") \\\n",
        "    .format(\"console\") \\\n",
        "    .option(\"truncate\", \"false\") \\\n",
        "    .start()\n",
        "\n",
        "query_kafka.awaitTermination(180)\n",
        "query_console.awaitTermination(180)\n",
        "\n",
        "query_kafka.stop()\n",
        "query_console.stop()\n"
      ],
      "metadata": {
        "id": "3TF7sEKBxQJ5"
      },
      "execution_count": null,
      "outputs": []
    },
    {
      "cell_type": "code",
      "source": [
        "# Перевірка отриманих алертів\n",
        "from kafka import KafkaConsumer\n",
        "import json\n",
        "\n",
        "consumer = KafkaConsumer(\n",
        "    'chub_alerts',\n",
        "    bootstrap_servers=['localhost:9092'],\n",
        "    value_deserializer=lambda m: json.loads(m.decode('utf-8')),\n",
        "    auto_offset_reset='earliest',\n",
        "    consumer_timeout_ms=30000  # 30 секунд очікування\n",
        ")\n",
        "\n",
        "for message in consumer:\n",
        "    print(\"🔥 ALERT:\", message.value)\n",
        "\n",
        "consumer.close()\n"
      ],
      "metadata": {
        "colab": {
          "base_uri": "https://localhost:8080/"
        },
        "id": "zMmgBfNhxQPP",
        "outputId": "f3ac633f-ae0f-4ba5-9a7a-8df7b19b1289"
      },
      "execution_count": null,
      "outputs": [
        {
          "output_type": "stream",
          "name": "stderr",
          "text": [
            "WARNING:kafka.coordinator.consumer:group_id is None: disabling auto-commit.\n"
          ]
        },
        {
          "output_type": "stream",
          "name": "stdout",
          "text": [
            "🔥 ALERT: {'window': {'start': '2025-03-21T22:44:00.000Z', 'end': '2025-03-21T22:45:00.000Z'}, 't_avg': 35.46666666666667, 'h_avg': 51.4, 'code': 101, 'message': \"It's too dry\", 'timestamp': '2025-03-21T22:50:41.563Z'}\n",
            "🔥 ALERT: {'window': {'start': '2025-03-21T22:44:00.000Z', 'end': '2025-03-21T22:45:00.000Z'}, 't_avg': 35.46666666666667, 'h_avg': 51.4, 'code': 103, 'message': \"It's too cold\", 'timestamp': '2025-03-21T22:50:41.563Z'}\n",
            "🔥 ALERT: {'window': {'start': '2025-03-21T22:43:00.000Z', 'end': '2025-03-21T22:44:00.000Z'}, 't_avg': 34.0, 'h_avg': 51.86363636363637, 'code': 103, 'message': \"It's too cold\", 'timestamp': '2025-03-21T22:50:41.563Z'}\n",
            "🔥 ALERT: {'window': {'start': '2025-03-21T22:43:30.000Z', 'end': '2025-03-21T22:44:30.000Z'}, 't_avg': 34.13333333333333, 'h_avg': 50.166666666666664, 'code': 103, 'message': \"It's too cold\", 'timestamp': '2025-03-21T22:50:41.563Z'}\n",
            "🔥 ALERT: {'window': {'start': '2025-03-21T22:42:30.000Z', 'end': '2025-03-21T22:43:30.000Z'}, 't_avg': 35.0, 'h_avg': 51.142857142857146, 'code': 103, 'message': \"It's too cold\", 'timestamp': '2025-03-21T22:50:41.563Z'}\n",
            "🔥 ALERT: {'window': {'start': '2025-03-21T22:44:00.000Z', 'end': '2025-03-21T22:45:00.000Z'}, 't_avg': 35.46666666666667, 'h_avg': 51.4, 'code': 104, 'message': \"It's too hot\", 'timestamp': '2025-03-21T22:50:41.563Z'}\n",
            "🔥 ALERT: {'window': {'start': '2025-03-21T22:43:00.000Z', 'end': '2025-03-21T22:44:00.000Z'}, 't_avg': 34.0, 'h_avg': 51.86363636363637, 'code': 104, 'message': \"It's too hot\", 'timestamp': '2025-03-21T22:50:41.563Z'}\n",
            "🔥 ALERT: {'window': {'start': '2025-03-21T22:43:30.000Z', 'end': '2025-03-21T22:44:30.000Z'}, 't_avg': 34.13333333333333, 'h_avg': 50.166666666666664, 'code': 104, 'message': \"It's too hot\", 'timestamp': '2025-03-21T22:50:41.563Z'}\n",
            "🔥 ALERT: {'window': {'start': '2025-03-21T22:42:30.000Z', 'end': '2025-03-21T22:43:30.000Z'}, 't_avg': 35.0, 'h_avg': 51.142857142857146, 'code': 104, 'message': \"It's too hot\", 'timestamp': '2025-03-21T22:50:41.563Z'}\n",
            "🔥 ALERT: {'window': {'start': '2025-03-21T22:43:00.000Z', 'end': '2025-03-21T22:44:00.000Z'}, 't_avg': 34.0, 'h_avg': 51.86363636363637, 'code': 101, 'message': \"It's too dry\", 'timestamp': '2025-03-21T22:50:41.563Z'}\n",
            "🔥 ALERT: {'window': {'start': '2025-03-21T22:43:30.000Z', 'end': '2025-03-21T22:44:30.000Z'}, 't_avg': 34.13333333333333, 'h_avg': 50.166666666666664, 'code': 101, 'message': \"It's too dry\", 'timestamp': '2025-03-21T22:50:41.563Z'}\n",
            "🔥 ALERT: {'window': {'start': '2025-03-21T22:42:30.000Z', 'end': '2025-03-21T22:43:30.000Z'}, 't_avg': 35.0, 'h_avg': 51.142857142857146, 'code': 101, 'message': \"It's too dry\", 'timestamp': '2025-03-21T22:50:41.563Z'}\n",
            "🔥 ALERT: {'window': {'start': '2025-03-21T22:44:00.000Z', 'end': '2025-03-21T22:45:00.000Z'}, 't_avg': 35.46666666666667, 'h_avg': 51.4, 'code': 102, 'message': \"It's too wet\", 'timestamp': '2025-03-21T22:50:41.563Z'}\n",
            "🔥 ALERT: {'window': {'start': '2025-03-21T22:43:00.000Z', 'end': '2025-03-21T22:44:00.000Z'}, 't_avg': 34.0, 'h_avg': 51.86363636363637, 'code': 102, 'message': \"It's too wet\", 'timestamp': '2025-03-21T22:50:41.563Z'}\n",
            "🔥 ALERT: {'window': {'start': '2025-03-21T22:43:30.000Z', 'end': '2025-03-21T22:44:30.000Z'}, 't_avg': 34.13333333333333, 'h_avg': 50.166666666666664, 'code': 102, 'message': \"It's too wet\", 'timestamp': '2025-03-21T22:50:41.563Z'}\n",
            "🔥 ALERT: {'window': {'start': '2025-03-21T22:42:30.000Z', 'end': '2025-03-21T22:43:30.000Z'}, 't_avg': 35.0, 'h_avg': 51.142857142857146, 'code': 102, 'message': \"It's too wet\", 'timestamp': '2025-03-21T22:50:41.563Z'}\n"
          ]
        }
      ]
    },
    {
      "cell_type": "code",
      "source": [],
      "metadata": {
        "id": "oYjMwD_xxQSt"
      },
      "execution_count": null,
      "outputs": []
    }
  ]
}